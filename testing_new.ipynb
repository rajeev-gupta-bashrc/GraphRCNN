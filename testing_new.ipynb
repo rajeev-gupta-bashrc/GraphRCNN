{
 "cells": [
  {
   "cell_type": "code",
   "execution_count": 1,
   "metadata": {},
   "outputs": [],
   "source": [
    "import os\n",
    "import sys\n",
    "import numpy as np\n",
    "import torch\n",
    "import logging"
   ]
  },
  {
   "cell_type": "code",
   "execution_count": 2,
   "metadata": {},
   "outputs": [],
   "source": [
    "pkg_path = '/media/rajeev-gupta/Drive250/SENSYN_/from_sensyn_ws_src/GraphRCNN'\n",
    "sys.path.insert(0, pkg_path)"
   ]
  },
  {
   "cell_type": "code",
   "execution_count": 3,
   "metadata": {},
   "outputs": [],
   "source": [
    "\n",
    "from det3d import torchie\n",
    "from det3d.torchie import Config\n",
    "from det3d.datasets import build_dataset, build_dataloader\n",
    "from det3d.models import build_detector\n",
    "from det3d.torchie.apis import (\n",
    "    get_root_logger,\n",
    "    batch_processor\n",
    ")\n",
    "from det3d.torchie.trainer import get_dist_info, load_checkpoint\n",
    "from det3d.torchie.trainer.utils import all_gather, synchronize\n",
    "import pickle \n",
    "import time "
   ]
  },
  {
   "cell_type": "code",
   "execution_count": 4,
   "metadata": {},
   "outputs": [],
   "source": [
    "cfg_path = 'configs/waymo/voxelnet/two_stage/waymo_centerpoint_voxelnet_graphrcnn_6epoch_freeze.py'"
   ]
  },
  {
   "cell_type": "code",
   "execution_count": 5,
   "metadata": {},
   "outputs": [],
   "source": [
    "cfg = Config.fromfile(cfg_path)\n",
    "cfg.local_rank = 0\n"
   ]
  },
  {
   "cell_type": "code",
   "execution_count": 6,
   "metadata": {},
   "outputs": [],
   "source": [
    "logger = logging.getLogger()"
   ]
  },
  {
   "cell_type": "code",
   "execution_count": 7,
   "metadata": {},
   "outputs": [
    {
     "name": "stdout",
     "output_type": "stream",
     "text": [
      "\n",
      "***************************model is build_from_cfg***************************\n",
      "obj_type is str:  TwoStageDetector\n",
      "[In build_from_cfg] building  <class 'det3d.models.detectors.two_stage.TwoStageDetector'>\n",
      "\n",
      "***************************model is build_from_cfg***************************\n",
      "obj_type is str:  VoxelNet\n",
      "[In build_from_cfg] building  <class 'det3d.models.detectors.voxelnet.VoxelNet'>\n",
      "Running super of VoxelNet (SingleStageDetector)\n",
      "\n",
      "***************************model is build_from_cfg***************************\n",
      "obj_type is str:  DynamicVoxelEncoder\n",
      "[In build_from_cfg] building  <class 'det3d.models.readers.dynamic_voxel_encoder.DynamicVoxelEncoder'>\n",
      "\n",
      "***************************model is build_from_cfg***************************\n",
      "obj_type is str:  SpMiddleResNetFHD\n",
      "[In build_from_cfg] building  <class 'det3d.models.backbones.scn.SpMiddleResNetFHD'>\n",
      "\n",
      "***************************model is build_from_cfg***************************\n",
      "obj_type is str:  RPN\n",
      "[In build_from_cfg] building  <class 'det3d.models.necks.rpn.RPN'>\n",
      "\n",
      "***************************model is build_from_cfg***************************\n",
      "obj_type is str:  CenterHead\n",
      "[In build_from_cfg] building  <class 'det3d.models.bbox_heads.center_head.CenterHead'>\n",
      "Use HM Bias:  -2.19\n",
      "load_checkpoint\n",
      "model loaded using LSD\n",
      "model loaded with state dict\n",
      "Init weight from /media/rajeev-gupta/Drive250/SENSYN_/from_sensyn_ws_src/Honghui_weights/centerpoint_epoch_36.pth\n",
      "Freeze First Stage Network\n",
      "\n",
      "***************************model is build_from_cfg***************************\n",
      "obj_type is str:  GraphRCNNHead\n",
      "[In build_from_cfg] building  <class 'det3d.models.roi_heads.roi_head.GraphRCNNHead'>\n"
     ]
    }
   ],
   "source": [
    "model = build_detector(cfg.model, train_cfg=None, test_cfg=cfg.test_cfg)"
   ]
  },
  {
   "cell_type": "code",
   "execution_count": 8,
   "metadata": {},
   "outputs": [],
   "source": [
    "device = torch.device('cpu')\n",
    "map_location = 'cpu'\n",
    "if torch.cuda.is_available():\n",
    "    device = torch.device('cuda:0')\n",
    "    map_location = 'cuda:0'"
   ]
  },
  {
   "cell_type": "code",
   "execution_count": 9,
   "metadata": {},
   "outputs": [
    {
     "name": "stdout",
     "output_type": "stream",
     "text": [
      "obj_type is str:  WaymoDataset\n",
      "[In build_from_cfg] building  <class 'det3d.datasets.waymo.waymo.WaymoDataset'>\n",
      "Using 1 sweeps\n",
      "Using 196 Frames\n",
      "obj_type is str:  LoadPointCloudFromFile\n",
      "[In build_from_cfg] building  <class 'det3d.datasets.pipelines.loading.LoadPointCloudFromFile'>\n",
      "obj_type is str:  LoadPointCloudAnnotations\n",
      "[In build_from_cfg] building  <class 'det3d.datasets.pipelines.loading.LoadPointCloudAnnotations'>\n",
      "obj_type is str:  Preprocess\n",
      "[In build_from_cfg] building  <class 'det3d.datasets.pipelines.preprocess.Preprocess'>\n",
      "obj_type is str:  AssignLabel\n",
      "[In build_from_cfg] building  <class 'det3d.datasets.pipelines.preprocess.AssignLabel'>\n",
      "obj_type is str:  Reformat\n",
      "[In build_from_cfg] building  <class 'det3d.datasets.pipelines.formating.Reformat'>\n"
     ]
    }
   ],
   "source": [
    "dataset = build_dataset(cfg.data.val)\n"
   ]
  },
  {
   "cell_type": "code",
   "execution_count": 10,
   "metadata": {},
   "outputs": [
    {
     "data": {
      "text/plain": [
       "196"
      ]
     },
     "execution_count": 10,
     "metadata": {},
     "output_type": "execute_result"
    }
   ],
   "source": [
    "len(dataset)"
   ]
  },
  {
   "cell_type": "code",
   "execution_count": 11,
   "metadata": {},
   "outputs": [],
   "source": [
    "\n",
    "data_loader = build_dataloader(\n",
    "    dataset,\n",
    "    batch_size=1,\n",
    "    workers_per_gpu=cfg.data.workers_per_gpu,\n",
    "    dist=False,\n",
    "    shuffle=False,\n",
    ")\n"
   ]
  },
  {
   "cell_type": "code",
   "execution_count": 12,
   "metadata": {},
   "outputs": [],
   "source": [
    "# for batch in data_loader:\n",
    "#     b0 = batch\n",
    "#     break"
   ]
  },
  {
   "cell_type": "code",
   "execution_count": 13,
   "metadata": {},
   "outputs": [],
   "source": [
    "# b0"
   ]
  },
  {
   "cell_type": "code",
   "execution_count": 14,
   "metadata": {},
   "outputs": [
    {
     "data": {
      "text/plain": [
       "{'metadata': {'image_prefix': PosixPath('/media/rajeev-gupta/Drive250/SENSYN_/from_sensyn_ws_src/GraphRCNN/Ventoy/waymo_data/data/waymo'),\n",
       "  'num_point_features': 5,\n",
       "  'token': 'seq_0_frame_0.pkl'},\n",
       " 'points': array([[-5.8179199e+01,  1.4228516e+00,  4.2121582e+00,  2.0786366e-01,\n",
       "          1.1710643e-02],\n",
       "        [-5.8116943e+01,  1.5605469e+00,  4.2102051e+00,  6.6308804e-02,\n",
       "          0.0000000e+00],\n",
       "        [-5.5648193e+01,  2.1669922e+00,  4.1254883e+00,  1.4640132e-01,\n",
       "          2.9276608e-02],\n",
       "        ...,\n",
       "        [-7.7226394e-01, -8.0798416e+00,  3.3320874e-02,  4.9763549e-02,\n",
       "          0.0000000e+00],\n",
       "        [-7.3578119e+00, -7.9097219e+00, -6.7060620e-02,  6.2418748e-02,\n",
       "          3.2204267e-01],\n",
       "        [-2.3848801e+00,  2.5169072e+00, -8.1437826e-03,  3.4410238e-02,\n",
       "          0.0000000e+00]], dtype=float32)}"
      ]
     },
     "execution_count": 14,
     "metadata": {},
     "output_type": "execute_result"
    }
   ],
   "source": [
    "d1 = dataset.__getitem__(0)\n",
    "d1"
   ]
  },
  {
   "cell_type": "code",
   "execution_count": 15,
   "metadata": {},
   "outputs": [],
   "source": [
    "def get_lidar(lidar_path):\n",
    "    lidar = np.fromfile(lidar_path, dtype=np.float32).reshape(-1, 5)\n",
    "    lidar[:, 3] = np.tanh(lidar[:, 3])\n",
    "    return lidar\n",
    "_data_path2 = '/media/rajeev-gupta/Drive250/SENSYN_/from_sensyn_ws_src/GraphRCNN/Ventoy/waymo_data/data/waymo/kitti2/raw_data/segment-13182548552824592684_4160_250_4180_250_with_camera_label'\n",
    "_lidar_path = os.path.join(_data_path2, 'velodyne', f'{0:06d}.bin')\n",
    "points=get_lidar(_lidar_path)\n"
   ]
  },
  {
   "cell_type": "code",
   "execution_count": 16,
   "metadata": {},
   "outputs": [
    {
     "data": {
      "text/plain": [
       "{'metadata': {'image_prefix': PosixPath('/media/rajeev-gupta/Drive250/SENSYN_/from_sensyn_ws_src/GraphRCNN/Ventoy/waymo_data/data/waymo'),\n",
       "  'num_point_features': 5,\n",
       "  'token': 'seq_0_frame_0.pkl'},\n",
       " 'points': array([[-5.8179199e+01,  1.4228516e+00,  4.2121582e+00,  2.0786366e-01,\n",
       "          1.1710643e-02],\n",
       "        [-5.8116943e+01,  1.5605469e+00,  4.2102051e+00,  6.6308804e-02,\n",
       "          0.0000000e+00],\n",
       "        [-5.5648193e+01,  2.1669922e+00,  4.1254883e+00,  1.4640132e-01,\n",
       "          2.9276608e-02],\n",
       "        ...,\n",
       "        [-7.7226394e-01, -8.0798416e+00,  3.3320874e-02,  4.9763549e-02,\n",
       "          0.0000000e+00],\n",
       "        [-7.3578119e+00, -7.9097219e+00, -6.7060620e-02,  6.2418748e-02,\n",
       "          3.2204267e-01],\n",
       "        [-2.3848801e+00,  2.5169072e+00, -8.1437826e-03,  3.4410238e-02,\n",
       "          0.0000000e+00]], dtype=float32)}"
      ]
     },
     "execution_count": 16,
     "metadata": {},
     "output_type": "execute_result"
    }
   ],
   "source": [
    "d0 = dataset.__getitem__(0)\n",
    "d0"
   ]
  },
  {
   "cell_type": "code",
   "execution_count": null,
   "metadata": {},
   "outputs": [
    {
     "data": {
      "text/plain": [
       "{'metadata': {'image_prefix': PosixPath('/media/rajeev-gupta/Drive250/SENSYN_/from_sensyn_ws_src/GraphRCNN/Ventoy/waymo_data/data/waymo'),\n",
       "  'num_point_features': 5,\n",
       "  'token': 'seq_0_frame_0.pkl'},\n",
       " 'points': array([[-5.8179199e+01,  1.4228516e+00,  4.2121582e+00,  2.0786366e-01,\n",
       "          1.1710643e-02],\n",
       "        [-5.8116943e+01,  1.5605469e+00,  4.2102051e+00,  6.6308804e-02,\n",
       "          0.0000000e+00],\n",
       "        [-5.5648193e+01,  2.1669922e+00,  4.1254883e+00,  1.4640132e-01,\n",
       "          2.9276608e-02],\n",
       "        ...,\n",
       "        [-7.7226394e-01, -8.0798416e+00,  3.3320874e-02,  4.9763549e-02,\n",
       "          0.0000000e+00],\n",
       "        [-7.3578119e+00, -7.9097219e+00, -6.7060620e-02,  6.2418748e-02,\n",
       "          3.2204267e-01],\n",
       "        [-2.3848801e+00,  2.5169072e+00, -8.1437826e-03,  3.4410238e-02,\n",
       "          0.0000000e+00]], dtype=float32)}"
      ]
     },
     "metadata": {},
     "output_type": "display_data"
    }
   ],
   "source": [
    "d0 = dataset.__getitem__(0)\n",
    "d0"
   ]
  },
  {
   "cell_type": "code",
   "execution_count": 17,
   "metadata": {},
   "outputs": [
    {
     "data": {
      "text/plain": [
       "array([[-5.8179199e+01,  1.4228516e+00,  4.2121582e+00,  2.0786366e-01,\n",
       "         1.1710643e-02],\n",
       "       [-5.8116943e+01,  1.5605469e+00,  4.2102051e+00,  6.6308804e-02,\n",
       "         0.0000000e+00],\n",
       "       [-5.5648193e+01,  2.1669922e+00,  4.1254883e+00,  1.4640132e-01,\n",
       "         2.9276608e-02],\n",
       "       ...,\n",
       "       [-7.7226394e-01, -8.0798416e+00,  3.3320874e-02,  4.9763549e-02,\n",
       "         0.0000000e+00],\n",
       "       [-7.3578119e+00, -7.9097219e+00, -6.7060620e-02,  6.2418748e-02,\n",
       "         3.2204267e-01],\n",
       "       [-2.3848801e+00,  2.5169072e+00, -8.1437826e-03,  3.4410238e-02,\n",
       "         0.0000000e+00]], dtype=float32)"
      ]
     },
     "execution_count": 17,
     "metadata": {},
     "output_type": "execute_result"
    }
   ],
   "source": [
    "# d0['points'][:, 4] = 1\n",
    "d0['points']"
   ]
  },
  {
   "cell_type": "code",
   "execution_count": 18,
   "metadata": {},
   "outputs": [],
   "source": [
    "d0['metadata'] = {'image_prefix': '', 'num_point_features': 5, 'token': ''}"
   ]
  },
  {
   "cell_type": "code",
   "execution_count": 19,
   "metadata": {},
   "outputs": [],
   "source": [
    "d0['points'] = [torch.Tensor(d0['points'])]\n",
    "d0['metadata'] = [d0['metadata']]"
   ]
  },
  {
   "cell_type": "code",
   "execution_count": 20,
   "metadata": {},
   "outputs": [
    {
     "data": {
      "text/plain": [
       "{'metadata': [{'image_prefix': '', 'num_point_features': 5, 'token': ''}],\n",
       " 'points': [tensor([[-5.8179e+01,  1.4229e+00,  4.2122e+00,  2.0786e-01,  1.1711e-02],\n",
       "          [-5.8117e+01,  1.5605e+00,  4.2102e+00,  6.6309e-02,  0.0000e+00],\n",
       "          [-5.5648e+01,  2.1670e+00,  4.1255e+00,  1.4640e-01,  2.9277e-02],\n",
       "          ...,\n",
       "          [-7.7226e-01, -8.0798e+00,  3.3321e-02,  4.9764e-02,  0.0000e+00],\n",
       "          [-7.3578e+00, -7.9097e+00, -6.7061e-02,  6.2419e-02,  3.2204e-01],\n",
       "          [-2.3849e+00,  2.5169e+00, -8.1438e-03,  3.4410e-02,  0.0000e+00]])]}"
      ]
     },
     "execution_count": 20,
     "metadata": {},
     "output_type": "execute_result"
    }
   ],
   "source": [
    "d0"
   ]
  },
  {
   "cell_type": "code",
   "execution_count": 21,
   "metadata": {},
   "outputs": [
    {
     "name": "stdout",
     "output_type": "stream",
     "text": [
      "load_checkpoint\n",
      "model loaded using LSD\n",
      "model loaded with state dict\n"
     ]
    }
   ],
   "source": [
    "ckpt = load_checkpoint(model, cfg.load_from, map_location, strict=False, logger=logger)"
   ]
  },
  {
   "cell_type": "code",
   "execution_count": 22,
   "metadata": {},
   "outputs": [],
   "source": [
    "model = model.cuda()\n",
    "model.eval()\n",
    "mode = \"val\""
   ]
  },
  {
   "cell_type": "code",
   "execution_count": 23,
   "metadata": {},
   "outputs": [
    {
     "name": "stderr",
     "output_type": "stream",
     "text": [
      "/media/rajeev-gupta/Drive250/conda_envs/new_graphrcnn/lib/python3.7/site-packages/torch/functional.py:445: UserWarning: torch.meshgrid: in an upcoming release, it will be required to pass the indexing argument. (Triggered internally at  /opt/conda/conda-bld/pytorch_1639180589158/work/aten/src/ATen/native/TensorShape.cpp:2157.)\n",
      "  return _VF.meshgrid(tensors, **kwargs)  # type: ignore[attr-defined]\n"
     ]
    }
   ],
   "source": [
    "outputs = batch_processor(\n",
    "                model, d0, train_mode=False, local_rank=cfg.local_rank,\n",
    "            )"
   ]
  },
  {
   "cell_type": "code",
   "execution_count": 24,
   "metadata": {},
   "outputs": [
    {
     "data": {
      "text/plain": [
       "[{'box3d_lidar': tensor([[-31.6345, -20.3367,   0.8829,   2.0088,   4.3790,   1.7824,   1.5184],\n",
       "          [-31.8536, -17.4737,   0.8493,   1.9724,   4.4023,   1.7881,   1.4757],\n",
       "          [-65.6975,   6.8053,   0.6280,   2.4116,   5.8478,   2.0786,   3.0154],\n",
       "          [  8.9420,   6.7381,   0.7614,   0.8798,   0.9286,   1.6249,   1.5588],\n",
       "          [ 58.0841,   9.7893,   1.5420,   2.1399,   4.5818,   1.8173,  -1.2966],\n",
       "          [-60.2211,  -0.7267,   0.6207,   2.5068,   6.2779,   2.1513,   1.4573],\n",
       "          [ 22.7970, -17.9667,   1.1557,   2.0562,   4.6580,   1.5700,   0.1680],\n",
       "          [ 29.3849,  13.8768,   1.0639,   0.8158,   0.8579,   1.6812,  -1.3366],\n",
       "          [-44.9938,  47.6096,   0.5873,   2.0329,   4.4537,   1.6681,   2.4934],\n",
       "          [ 29.7384,  13.3766,   0.7562,   0.6550,   0.6947,   1.0699,  -1.5313],\n",
       "          [ 31.2256,  12.7504,   1.2474,   0.9122,   1.0103,   1.9573,  -0.4832],\n",
       "          [-16.7956,  20.9944,   0.7383,   2.2098,   4.9936,   1.9181,  -1.5743],\n",
       "          [-34.3613,  31.0232,   0.9002,   2.5452,   5.4013,   2.8150,  -0.0722],\n",
       "          [ 30.1484,  13.9877,   0.9060,   0.6902,   0.7724,   1.2435,  -0.9441],\n",
       "          [-22.9883,  26.7942,   0.7315,   2.2926,   5.3721,   2.0016,   3.0738],\n",
       "          [ 58.9038,  12.4422,   1.2100,   1.9763,   4.4071,   1.5679,   1.8536],\n",
       "          [-11.0169,  -7.7295,   0.4465,   0.8224,   1.7738,   1.8027,   2.6897],\n",
       "          [-21.3214,  25.3110,   0.7962,   2.3300,   5.2649,   2.0349,  -1.6091]],\n",
       "         device='cuda:0', grad_fn=<IndexBackward0>),\n",
       "  'scores': tensor([0.9510, 0.9452, 0.9336, 0.8776, 0.8901, 0.8909, 0.8201, 0.7069, 0.8129,\n",
       "          0.6652, 0.7721, 0.7390, 0.7529, 0.2573, 0.6464, 0.4926, 0.5562, 0.4019],\n",
       "         device='cuda:0', grad_fn=<IndexBackward0>),\n",
       "  'label_preds': tensor([0, 0, 0, 1, 0, 0, 0, 1, 0, 1, 1, 0, 0, 1, 0, 0, 2, 0], device='cuda:0'),\n",
       "  'metadata': {'image_prefix': '', 'num_point_features': 5, 'token': ''}}]"
      ]
     },
     "execution_count": 24,
     "metadata": {},
     "output_type": "execute_result"
    },
    {
     "ename": "",
     "evalue": "",
     "output_type": "error",
     "traceback": [
      "\u001b[1;31mThe Kernel crashed while executing code in the current cell or a previous cell. \n",
      "\u001b[1;31mPlease review the code in the cell(s) to identify a possible cause of the failure. \n",
      "\u001b[1;31mClick <a href='https://aka.ms/vscodeJupyterKernelCrash'>here</a> for more info. \n",
      "\u001b[1;31mView Jupyter <a href='command:jupyter.viewOutput'>log</a> for further details."
     ]
    }
   ],
   "source": [
    "outputs"
   ]
  },
  {
   "cell_type": "code",
   "execution_count": null,
   "metadata": {},
   "outputs": [],
   "source": []
  }
 ],
 "metadata": {
  "kernelspec": {
   "display_name": "new_graphrcnn",
   "language": "python",
   "name": "python3"
  },
  "language_info": {
   "codemirror_mode": {
    "name": "ipython",
    "version": 3
   },
   "file_extension": ".py",
   "mimetype": "text/x-python",
   "name": "python",
   "nbconvert_exporter": "python",
   "pygments_lexer": "ipython3",
   "version": "3.7.12"
  }
 },
 "nbformat": 4,
 "nbformat_minor": 2
}
