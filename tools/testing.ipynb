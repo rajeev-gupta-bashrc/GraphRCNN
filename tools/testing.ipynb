{
 "cells": [
  {
   "cell_type": "code",
   "execution_count": 2,
   "metadata": {},
   "outputs": [],
   "source": [
    "import argparse\n",
    "import copy\n",
    "import json\n",
    "import os\n",
    "import sys\n",
    "import numpy as np\n",
    "import torch\n",
    "import yaml\n",
    "from det3d import torchie\n",
    "from det3d.datasets import build_dataloader, build_dataset\n",
    "from det3d.models import build_detector\n",
    "from det3d.torchie import Config\n",
    "from det3d.torchie.apis import (\n",
    "    batch_processor,\n",
    "    build_optimizer,\n",
    "    get_root_logger,\n",
    "    init_dist,\n",
    "    set_random_seed,\n",
    "    train_detector,\n",
    ")\n",
    "from det3d.torchie.trainer import get_dist_info, load_checkpoint\n",
    "from det3d.torchie.trainer.utils import all_gather, synchronize\n",
    "from torch.nn.parallel import DistributedDataParallel\n",
    "import pickle \n",
    "import time "
   ]
  },
  {
   "cell_type": "code",
   "execution_count": 3,
   "metadata": {},
   "outputs": [],
   "source": [
    "def save_pred(pred, root):\n",
    "    with open(os.path.join(root, \"prediction.pkl\"), \"wb\") as f:\n",
    "        pickle.dump(pred, f)\n"
   ]
  },
  {
   "cell_type": "code",
   "execution_count": 4,
   "metadata": {},
   "outputs": [],
   "source": [
    "CFG_NAME='waymo_centerpoint_voxelnet_3x'\n",
    "\n",
    "\n",
    "def parse_args():\n",
    "    parser = argparse.ArgumentParser(description=\"Train a detector\")\n",
    "    parser.add_argument(\"--config\", \n",
    "                        default=f'./tools/dist_test.py configs/waymo/voxelnet/two_stage/{CFG_NAME}.py', help=\"train config file path\")\n",
    "    parser.add_argument(\"--work_dir\", \n",
    "                        default=f'work_dirs/{CFG_NAME}',\n",
    "                        # required=True, \n",
    "                        help=\"the dir to save logs and models\")\n",
    "    parser.add_argument(\n",
    "        \"--checkpoint\", \n",
    "        default=f'work_dirs/{CFG_NAME}/latest.pth',\n",
    "        help=\"the dir to checkpoint which the model read from\"\n",
    "    )\n",
    "    parser.add_argument(\n",
    "        \"--txt_result\",\n",
    "        type=bool,\n",
    "        default=False,\n",
    "        help=\"whether to save results to standard KITTI format of txt type\",\n",
    "    )\n",
    "    parser.add_argument(\n",
    "        \"--gpus\",\n",
    "        type=int,\n",
    "        default=1,\n",
    "        help=\"number of gpus to use \" \"(only applicable to non-distributed training)\",\n",
    "    )\n",
    "    parser.add_argument(\n",
    "        \"--launcher\",\n",
    "        choices=[\"none\", \"pytorch\", \"slurm\", \"mpi\"],\n",
    "        default=\"none\",\n",
    "        help=\"job launcher\",\n",
    "    )\n",
    "    parser.add_argument(\"--speed_test\", action=\"store_true\")\n",
    "    parser.add_argument(\"--local_rank\", type=int, default=0)\n",
    "    parser.add_argument(\"--testset\", action=\"store_true\")\n",
    "\n",
    "    args = parser.parse_args()\n",
    "    if \"LOCAL_RANK\" not in os.environ:\n",
    "        os.environ[\"LOCAL_RANK\"] = str(args.local_rank)\n",
    "\n",
    "    return args\n"
   ]
  },
  {
   "cell_type": "code",
   "execution_count": 5,
   "metadata": {},
   "outputs": [
    {
     "name": "stdout",
     "output_type": "stream",
     "text": [
      "Namespace(checkpoint='/home/rajeev-gupta/sensyn_ws/src/GraphRCNN/work_dirs/waymo_centerpoint_voxelnet_graphrcnn_6epoch_freeze/latest.pth', config='../configs/waymo/voxelnet/two_stage/waymo_centerpoint_voxelnet_graphrcnn_6epoch_freeze.py', gpus=1, launcher='none', local_rank=0, speed_test=False, testset=False, txt_result=False, work_dir='../work_dirs/waymo_centerpoint_voxelnet_graphrcnn_6epoch_freeze')\n"
     ]
    }
   ],
   "source": [
    "import sys\n",
    "\n",
    "# Simulate command-line arguments\n",
    "sys.argv = [\n",
    "    'script_name.py',  # Typically the script name, can be anything\n",
    "    '--config', '../configs/waymo/voxelnet/two_stage/waymo_centerpoint_voxelnet_graphrcnn_6epoch_freeze.py',\n",
    "    '--work_dir', '../work_dirs/waymo_centerpoint_voxelnet_graphrcnn_6epoch_freeze',\n",
    "    '--checkpoint', '/home/rajeev-gupta/sensyn_ws/src/GraphRCNN/work_dirs/waymo_centerpoint_voxelnet_graphrcnn_6epoch_freeze/latest.pth',\n",
    "    # '--txt_result', 'True',\n",
    "    '--gpus', '1',\n",
    "    '--local_rank', '0',\n",
    "    # '--speed_test'\n",
    "]\n",
    "\n",
    "# Call the parse_args function\n",
    "args = parse_args()\n",
    "\n",
    "# Check the parsed arguments\n",
    "print(args)\n",
    "\n",
    "cfg = Config.fromfile(args.config)\n",
    "cfg.local_rank = args.local_rank\n"
   ]
  },
  {
   "cell_type": "code",
   "execution_count": 6,
   "metadata": {},
   "outputs": [],
   "source": [
    "\n",
    "distributed = False if args.launcher == 'none' else True\n",
    "\n",
    "if distributed:\n",
    "    torch.cuda.set_device(args.local_rank)\n",
    "    torch.distributed.init_process_group(backend=\"nccl\", init_method=\"env://\")\n",
    "\n",
    "    cfg.gpus = torch.distributed.get_world_size()\n",
    "else:\n",
    "    cfg.gpus = args.gpus\n"
   ]
  },
  {
   "cell_type": "code",
   "execution_count": 7,
   "metadata": {},
   "outputs": [
    {
     "name": "stderr",
     "output_type": "stream",
     "text": [
      "2024-06-11 23:08:49,048 - INFO - Distributed testing: False\n",
      "2024-06-11 23:08:49,048 - INFO - torch.backends.cudnn.benchmark: False\n"
     ]
    }
   ],
   "source": [
    "\n",
    "# init logger before other steps\n",
    "logger = get_root_logger(cfg.log_level)\n",
    "logger.info(\"Distributed testing: {}\".format(distributed))\n",
    "logger.info(f\"torch.backends.cudnn.benchmark: {torch.backends.cudnn.benchmark}\")\n"
   ]
  },
  {
   "cell_type": "code",
   "execution_count": 8,
   "metadata": {},
   "outputs": [
    {
     "name": "stderr",
     "output_type": "stream",
     "text": [
      "2024-06-11 23:08:49,155 - INFO - Finish RPN Initialization\n",
      "2024-06-11 23:08:49,156 - INFO - num_classes: [3]\n",
      "2024-06-11 23:08:49,163 - INFO - Finish CenterHead Initialization\n"
     ]
    },
    {
     "name": "stdout",
     "output_type": "stream",
     "text": [
      "***************************model is build_from_cfg***************************\n",
      "***************************model is build_from_cfg***************************\n",
      "***************************model is build_from_cfg***************************\n",
      "***************************model is build_from_cfg***************************\n",
      "***************************model is build_from_cfg***************************\n",
      "***************************model is build_from_cfg***************************\n",
      "Use HM Bias:  -2.19\n",
      "load_state_dict\n",
      "The model and loaded state dict do not match exactly\n",
      "\n",
      "unexpected key in source state_dict: single_det.backbone.conv_input.0.weight, single_det.backbone.conv_input.1.weight, single_det.backbone.conv_input.1.bias, single_det.backbone.conv_input.1.running_mean, single_det.backbone.conv_input.1.running_var, single_det.backbone.conv1.0.conv1.weight, single_det.backbone.conv1.0.conv1.bias, single_det.backbone.conv1.0.bn1.weight, single_det.backbone.conv1.0.bn1.bias, single_det.backbone.conv1.0.bn1.running_mean, single_det.backbone.conv1.0.bn1.running_var, single_det.backbone.conv1.0.conv2.weight, single_det.backbone.conv1.0.conv2.bias, single_det.backbone.conv1.0.bn2.weight, single_det.backbone.conv1.0.bn2.bias, single_det.backbone.conv1.0.bn2.running_mean, single_det.backbone.conv1.0.bn2.running_var, single_det.backbone.conv1.1.conv1.weight, single_det.backbone.conv1.1.conv1.bias, single_det.backbone.conv1.1.bn1.weight, single_det.backbone.conv1.1.bn1.bias, single_det.backbone.conv1.1.bn1.running_mean, single_det.backbone.conv1.1.bn1.running_var, single_det.backbone.conv1.1.conv2.weight, single_det.backbone.conv1.1.conv2.bias, single_det.backbone.conv1.1.bn2.weight, single_det.backbone.conv1.1.bn2.bias, single_det.backbone.conv1.1.bn2.running_mean, single_det.backbone.conv1.1.bn2.running_var, single_det.backbone.conv2.0.weight, single_det.backbone.conv2.1.weight, single_det.backbone.conv2.1.bias, single_det.backbone.conv2.1.running_mean, single_det.backbone.conv2.1.running_var, single_det.backbone.conv2.3.conv1.weight, single_det.backbone.conv2.3.conv1.bias, single_det.backbone.conv2.3.bn1.weight, single_det.backbone.conv2.3.bn1.bias, single_det.backbone.conv2.3.bn1.running_mean, single_det.backbone.conv2.3.bn1.running_var, single_det.backbone.conv2.3.conv2.weight, single_det.backbone.conv2.3.conv2.bias, single_det.backbone.conv2.3.bn2.weight, single_det.backbone.conv2.3.bn2.bias, single_det.backbone.conv2.3.bn2.running_mean, single_det.backbone.conv2.3.bn2.running_var, single_det.backbone.conv2.4.conv1.weight, single_det.backbone.conv2.4.conv1.bias, single_det.backbone.conv2.4.bn1.weight, single_det.backbone.conv2.4.bn1.bias, single_det.backbone.conv2.4.bn1.running_mean, single_det.backbone.conv2.4.bn1.running_var, single_det.backbone.conv2.4.conv2.weight, single_det.backbone.conv2.4.conv2.bias, single_det.backbone.conv2.4.bn2.weight, single_det.backbone.conv2.4.bn2.bias, single_det.backbone.conv2.4.bn2.running_mean, single_det.backbone.conv2.4.bn2.running_var, single_det.backbone.conv3.0.weight, single_det.backbone.conv3.1.weight, single_det.backbone.conv3.1.bias, single_det.backbone.conv3.1.running_mean, single_det.backbone.conv3.1.running_var, single_det.backbone.conv3.3.conv1.weight, single_det.backbone.conv3.3.conv1.bias, single_det.backbone.conv3.3.bn1.weight, single_det.backbone.conv3.3.bn1.bias, single_det.backbone.conv3.3.bn1.running_mean, single_det.backbone.conv3.3.bn1.running_var, single_det.backbone.conv3.3.conv2.weight, single_det.backbone.conv3.3.conv2.bias, single_det.backbone.conv3.3.bn2.weight, single_det.backbone.conv3.3.bn2.bias, single_det.backbone.conv3.3.bn2.running_mean, single_det.backbone.conv3.3.bn2.running_var, single_det.backbone.conv3.4.conv1.weight, single_det.backbone.conv3.4.conv1.bias, single_det.backbone.conv3.4.bn1.weight, single_det.backbone.conv3.4.bn1.bias, single_det.backbone.conv3.4.bn1.running_mean, single_det.backbone.conv3.4.bn1.running_var, single_det.backbone.conv3.4.conv2.weight, single_det.backbone.conv3.4.conv2.bias, single_det.backbone.conv3.4.bn2.weight, single_det.backbone.conv3.4.bn2.bias, single_det.backbone.conv3.4.bn2.running_mean, single_det.backbone.conv3.4.bn2.running_var, single_det.backbone.conv4.0.weight, single_det.backbone.conv4.1.weight, single_det.backbone.conv4.1.bias, single_det.backbone.conv4.1.running_mean, single_det.backbone.conv4.1.running_var, single_det.backbone.conv4.3.conv1.weight, single_det.backbone.conv4.3.conv1.bias, single_det.backbone.conv4.3.bn1.weight, single_det.backbone.conv4.3.bn1.bias, single_det.backbone.conv4.3.bn1.running_mean, single_det.backbone.conv4.3.bn1.running_var, single_det.backbone.conv4.3.conv2.weight, single_det.backbone.conv4.3.conv2.bias, single_det.backbone.conv4.3.bn2.weight, single_det.backbone.conv4.3.bn2.bias, single_det.backbone.conv4.3.bn2.running_mean, single_det.backbone.conv4.3.bn2.running_var, single_det.backbone.conv4.4.conv1.weight, single_det.backbone.conv4.4.conv1.bias, single_det.backbone.conv4.4.bn1.weight, single_det.backbone.conv4.4.bn1.bias, single_det.backbone.conv4.4.bn1.running_mean, single_det.backbone.conv4.4.bn1.running_var, single_det.backbone.conv4.4.conv2.weight, single_det.backbone.conv4.4.conv2.bias, single_det.backbone.conv4.4.bn2.weight, single_det.backbone.conv4.4.bn2.bias, single_det.backbone.conv4.4.bn2.running_mean, single_det.backbone.conv4.4.bn2.running_var, single_det.backbone.extra_conv.0.weight, single_det.backbone.extra_conv.1.weight, single_det.backbone.extra_conv.1.bias, single_det.backbone.extra_conv.1.running_mean, single_det.backbone.extra_conv.1.running_var, single_det.neck.blocks.0.1.weight, single_det.neck.blocks.0.2.weight, single_det.neck.blocks.0.2.bias, single_det.neck.blocks.0.2.running_mean, single_det.neck.blocks.0.2.running_var, single_det.neck.blocks.0.4.weight, single_det.neck.blocks.0.5.weight, single_det.neck.blocks.0.5.bias, single_det.neck.blocks.0.5.running_mean, single_det.neck.blocks.0.5.running_var, single_det.neck.blocks.0.7.weight, single_det.neck.blocks.0.8.weight, single_det.neck.blocks.0.8.bias, single_det.neck.blocks.0.8.running_mean, single_det.neck.blocks.0.8.running_var, single_det.neck.blocks.0.10.weight, single_det.neck.blocks.0.11.weight, single_det.neck.blocks.0.11.bias, single_det.neck.blocks.0.11.running_mean, single_det.neck.blocks.0.11.running_var, single_det.neck.blocks.0.13.weight, single_det.neck.blocks.0.14.weight, single_det.neck.blocks.0.14.bias, single_det.neck.blocks.0.14.running_mean, single_det.neck.blocks.0.14.running_var, single_det.neck.blocks.0.16.weight, single_det.neck.blocks.0.17.weight, single_det.neck.blocks.0.17.bias, single_det.neck.blocks.0.17.running_mean, single_det.neck.blocks.0.17.running_var, single_det.neck.blocks.1.1.weight, single_det.neck.blocks.1.2.weight, single_det.neck.blocks.1.2.bias, single_det.neck.blocks.1.2.running_mean, single_det.neck.blocks.1.2.running_var, single_det.neck.blocks.1.4.weight, single_det.neck.blocks.1.5.weight, single_det.neck.blocks.1.5.bias, single_det.neck.blocks.1.5.running_mean, single_det.neck.blocks.1.5.running_var, single_det.neck.blocks.1.7.weight, single_det.neck.blocks.1.8.weight, single_det.neck.blocks.1.8.bias, single_det.neck.blocks.1.8.running_mean, single_det.neck.blocks.1.8.running_var, single_det.neck.blocks.1.10.weight, single_det.neck.blocks.1.11.weight, single_det.neck.blocks.1.11.bias, single_det.neck.blocks.1.11.running_mean, single_det.neck.blocks.1.11.running_var, single_det.neck.blocks.1.13.weight, single_det.neck.blocks.1.14.weight, single_det.neck.blocks.1.14.bias, single_det.neck.blocks.1.14.running_mean, single_det.neck.blocks.1.14.running_var, single_det.neck.blocks.1.16.weight, single_det.neck.blocks.1.17.weight, single_det.neck.blocks.1.17.bias, single_det.neck.blocks.1.17.running_mean, single_det.neck.blocks.1.17.running_var, single_det.neck.deblocks.0.0.weight, single_det.neck.deblocks.0.1.weight, single_det.neck.deblocks.0.1.bias, single_det.neck.deblocks.0.1.running_mean, single_det.neck.deblocks.0.1.running_var, single_det.neck.deblocks.1.0.weight, single_det.neck.deblocks.1.1.weight, single_det.neck.deblocks.1.1.bias, single_det.neck.deblocks.1.1.running_mean, single_det.neck.deblocks.1.1.running_var, single_det.bbox_head.shared_conv.0.weight, single_det.bbox_head.shared_conv.0.bias, single_det.bbox_head.shared_conv.1.weight, single_det.bbox_head.shared_conv.1.bias, single_det.bbox_head.shared_conv.1.running_mean, single_det.bbox_head.shared_conv.1.running_var, single_det.bbox_head.tasks.0.reg.0.weight, single_det.bbox_head.tasks.0.reg.0.bias, single_det.bbox_head.tasks.0.reg.1.weight, single_det.bbox_head.tasks.0.reg.1.bias, single_det.bbox_head.tasks.0.reg.1.running_mean, single_det.bbox_head.tasks.0.reg.1.running_var, single_det.bbox_head.tasks.0.reg.3.weight, single_det.bbox_head.tasks.0.reg.3.bias, single_det.bbox_head.tasks.0.height.0.weight, single_det.bbox_head.tasks.0.height.0.bias, single_det.bbox_head.tasks.0.height.1.weight, single_det.bbox_head.tasks.0.height.1.bias, single_det.bbox_head.tasks.0.height.1.running_mean, single_det.bbox_head.tasks.0.height.1.running_var, single_det.bbox_head.tasks.0.height.3.weight, single_det.bbox_head.tasks.0.height.3.bias, single_det.bbox_head.tasks.0.dim.0.weight, single_det.bbox_head.tasks.0.dim.0.bias, single_det.bbox_head.tasks.0.dim.1.weight, single_det.bbox_head.tasks.0.dim.1.bias, single_det.bbox_head.tasks.0.dim.1.running_mean, single_det.bbox_head.tasks.0.dim.1.running_var, single_det.bbox_head.tasks.0.dim.3.weight, single_det.bbox_head.tasks.0.dim.3.bias, single_det.bbox_head.tasks.0.rot.0.weight, single_det.bbox_head.tasks.0.rot.0.bias, single_det.bbox_head.tasks.0.rot.1.weight, single_det.bbox_head.tasks.0.rot.1.bias, single_det.bbox_head.tasks.0.rot.1.running_mean, single_det.bbox_head.tasks.0.rot.1.running_var, single_det.bbox_head.tasks.0.rot.3.weight, single_det.bbox_head.tasks.0.rot.3.bias, single_det.bbox_head.tasks.0.hm.0.weight, single_det.bbox_head.tasks.0.hm.0.bias, single_det.bbox_head.tasks.0.hm.1.weight, single_det.bbox_head.tasks.0.hm.1.bias, single_det.bbox_head.tasks.0.hm.1.running_mean, single_det.bbox_head.tasks.0.hm.1.running_var, single_det.bbox_head.tasks.0.hm.3.weight, single_det.bbox_head.tasks.0.hm.3.bias, roi_head.attn_gnn_layer.edge_layes.0.0.weight, roi_head.attn_gnn_layer.edge_layes.0.1.weight, roi_head.attn_gnn_layer.edge_layes.0.1.bias, roi_head.attn_gnn_layer.edge_layes.0.1.running_mean, roi_head.attn_gnn_layer.edge_layes.0.1.running_var, roi_head.attn_gnn_layer.edge_layes.0.1.num_batches_tracked, roi_head.attn_gnn_layer.edge_layes.1.0.weight, roi_head.attn_gnn_layer.edge_layes.1.1.weight, roi_head.attn_gnn_layer.edge_layes.1.1.bias, roi_head.attn_gnn_layer.edge_layes.1.1.running_mean, roi_head.attn_gnn_layer.edge_layes.1.1.running_var, roi_head.attn_gnn_layer.edge_layes.1.1.num_batches_tracked, roi_head.attn_gnn_layer.edge_layes.2.0.weight, roi_head.attn_gnn_layer.edge_layes.2.1.weight, roi_head.attn_gnn_layer.edge_layes.2.1.bias, roi_head.attn_gnn_layer.edge_layes.2.1.running_mean, roi_head.attn_gnn_layer.edge_layes.2.1.running_var, roi_head.attn_gnn_layer.edge_layes.2.1.num_batches_tracked, roi_head.attn_gnn_layer.calib.0.weight, roi_head.attn_gnn_layer.calib.1.weight, roi_head.attn_gnn_layer.calib.1.bias, roi_head.attn_gnn_layer.calib.1.running_mean, roi_head.attn_gnn_layer.calib.1.running_var, roi_head.attn_gnn_layer.calib.1.num_batches_tracked, roi_head.attn_gnn_layer.calib.3.weight, roi_head.attn_gnn_layer.calib.3.bias, roi_head.attn_gnn_layer.expansion.0.weight, roi_head.attn_gnn_layer.expansion.1.weight, roi_head.attn_gnn_layer.expansion.1.bias, roi_head.attn_gnn_layer.expansion.1.running_mean, roi_head.attn_gnn_layer.expansion.1.running_var, roi_head.attn_gnn_layer.expansion.1.num_batches_tracked, roi_head.attn_gnn_layer.reduction.0.weight, roi_head.attn_gnn_layer.reduction.1.weight, roi_head.attn_gnn_layer.reduction.1.bias, roi_head.attn_gnn_layer.reduction.1.running_mean, roi_head.attn_gnn_layer.reduction.1.running_var, roi_head.attn_gnn_layer.reduction.1.num_batches_tracked, roi_head.attn_gnn_layer.shortcut.conv1.weight, roi_head.attn_gnn_layer.shortcut.conv1.bias, roi_head.attn_gnn_layer.shortcut.conv2.weight, roi_head.attn_gnn_layer.shortcut.conv2.bias, roi_head.attn_gnn_layer.shortcut.norm1.weight, roi_head.attn_gnn_layer.shortcut.norm1.bias, roi_head.attn_gnn_layer.shortcut.norm1.running_mean, roi_head.attn_gnn_layer.shortcut.norm1.running_var, roi_head.attn_gnn_layer.shortcut.norm1.num_batches_tracked, roi_head.attn_gnn_layer.shortcut.norm2.weight, roi_head.attn_gnn_layer.shortcut.norm2.bias, roi_head.attn_gnn_layer.shortcut.norm2.running_mean, roi_head.attn_gnn_layer.shortcut.norm2.running_var, roi_head.attn_gnn_layer.shortcut.norm2.num_batches_tracked, roi_head.shared_fc_layer.0.weight, roi_head.shared_fc_layer.1.weight, roi_head.shared_fc_layer.1.bias, roi_head.shared_fc_layer.1.running_mean, roi_head.shared_fc_layer.1.running_var, roi_head.shared_fc_layer.1.num_batches_tracked, roi_head.cls_layers.weight, roi_head.cls_layers.bias, roi_head.reg_layers.weight, roi_head.reg_layers.bias\n",
      "\n",
      "missing keys in source state_dict: backbone.conv2.4.conv2.weight, neck.deblocks.1.1.running_mean, backbone.conv4.4.conv1.weight, neck.deblocks.1.1.bias, backbone.conv2.3.bn1.running_mean, backbone.conv3.3.conv2.bias, backbone.conv2.1.bias, backbone.conv_input.0.weight, backbone.conv2.3.bn1.running_var, backbone.conv2.4.bn1.weight, backbone.conv3.4.bn2.bias, backbone.conv3.3.bn1.running_mean, backbone.conv4.3.conv2.weight, backbone.conv3.3.bn1.running_var, backbone.conv4.1.running_var, backbone.conv4.3.bn1.bias, backbone.conv4.1.running_mean, neck.blocks.0.2.running_var, neck.blocks.0.5.running_var, neck.blocks.0.8.weight, neck.blocks.1.8.running_mean, backbone.conv2.4.bn2.weight, backbone.conv2.3.conv2.weight, backbone.conv3.1.bias, backbone.conv4.3.bn1.running_mean, neck.blocks.1.11.running_var, neck.blocks.0.1.weight, backbone.conv4.4.bn2.bias, backbone.extra_conv.1.running_var, neck.blocks.1.17.weight, backbone.conv4.1.weight, backbone.conv4.4.bn1.bias, backbone.conv3.4.conv2.weight, neck.blocks.1.8.weight, backbone.conv2.3.bn2.running_var, backbone.conv_input.1.weight, neck.blocks.0.5.bias, backbone.conv4.4.bn1.weight, neck.blocks.1.17.running_var, neck.deblocks.0.1.bias, neck.blocks.1.2.running_var, neck.deblocks.0.1.weight, backbone.conv1.1.bn1.running_mean, neck.blocks.1.10.weight, backbone.conv4.3.bn1.running_var, backbone.conv3.3.bn1.bias, backbone.conv4.3.bn2.running_mean, backbone.conv2.3.bn2.running_mean, backbone.conv3.3.bn2.weight, backbone.conv4.3.bn2.running_var, backbone.conv1.1.bn2.running_mean, backbone.conv1.0.conv2.weight, neck.blocks.0.5.running_mean, backbone.conv2.4.conv1.bias, backbone.conv4.1.bias, backbone.conv3.4.bn1.running_var, backbone.conv2.4.bn1.running_mean, neck.blocks.0.2.bias, backbone.conv1.0.bn1.running_mean, backbone.conv4.4.bn2.weight, backbone.conv3.4.bn1.bias, backbone.conv3.3.bn1.weight, backbone.extra_conv.1.running_mean, neck.blocks.0.14.running_var, neck.blocks.0.16.weight, neck.blocks.1.8.running_var, backbone.conv1.0.bn2.weight, neck.blocks.1.14.weight, backbone.conv1.0.conv1.weight, neck.blocks.1.14.running_mean, backbone.conv3.1.running_mean, backbone.conv2.4.bn2.running_var, backbone.conv1.1.bn2.bias, backbone.conv1.0.bn1.running_var, backbone.conv4.4.conv2.bias, backbone.conv_input.1.running_var, neck.deblocks.1.1.weight, backbone.conv1.1.conv2.weight, neck.blocks.1.14.bias, backbone.conv2.1.running_mean, backbone.conv2.1.running_var, neck.blocks.0.17.running_mean, backbone.conv3.4.bn1.running_mean, neck.blocks.1.2.bias, neck.blocks.1.5.running_mean, neck.blocks.0.17.bias, neck.blocks.0.17.running_var, backbone.conv1.1.bn1.running_var, backbone.conv2.3.bn2.weight, backbone.conv2.1.weight, backbone.conv4.3.bn2.weight, backbone.conv1.0.bn1.bias, backbone.conv3.3.conv2.weight, backbone.conv3.3.conv1.bias, backbone.extra_conv.1.weight, backbone.conv1.0.bn2.running_mean, backbone.conv1.1.conv2.bias, backbone.conv3.0.weight, neck.blocks.1.7.weight, neck.blocks.1.11.weight, backbone.conv4.3.conv1.weight, backbone.conv4.4.conv1.bias, neck.blocks.0.8.running_var, backbone.conv2.3.bn1.bias, backbone.conv3.1.running_var, backbone.conv2.0.weight, neck.blocks.1.1.weight, neck.blocks.1.17.running_mean, backbone.conv1.1.conv1.bias, neck.blocks.0.4.weight, neck.blocks.1.11.bias, neck.blocks.1.4.weight, backbone.conv1.1.bn2.weight, backbone.conv3.4.bn2.weight, neck.blocks.0.8.bias, neck.blocks.1.14.running_var, backbone.conv2.3.conv2.bias, neck.blocks.1.5.weight, backbone.conv1.1.bn1.bias, backbone.conv4.3.conv2.bias, neck.deblocks.0.1.running_var, backbone.conv3.3.conv1.weight, neck.blocks.0.13.weight, backbone.conv3.3.bn2.running_mean, backbone.conv3.3.bn2.bias, backbone.conv2.3.conv1.weight, backbone.conv3.3.bn2.running_var, backbone.conv2.4.bn1.bias, backbone.conv2.4.conv1.weight, backbone.conv2.4.conv2.bias, backbone.conv1.1.bn1.weight, backbone.conv4.3.bn1.weight, neck.blocks.0.17.weight, neck.blocks.1.5.running_var, neck.blocks.1.8.bias, neck.blocks.1.17.bias, backbone.conv4.3.conv1.bias, backbone.conv3.4.bn1.weight, backbone.conv1.0.bn2.bias, neck.blocks.1.5.bias, backbone.conv3.4.bn2.running_var, neck.blocks.0.11.bias, backbone.conv2.4.bn2.bias, backbone.conv2.4.bn2.running_mean, neck.blocks.0.5.weight, neck.blocks.0.14.weight, backbone.conv4.4.bn2.running_mean, backbone.conv2.4.bn1.running_var, neck.blocks.1.2.running_mean, backbone.conv3.1.weight, backbone.conv2.3.bn2.bias, neck.blocks.0.11.running_mean, backbone.conv1.1.bn2.running_var, backbone.extra_conv.0.weight, neck.blocks.1.2.weight, neck.blocks.0.10.weight, neck.deblocks.1.1.running_var, backbone.conv4.4.conv2.weight, backbone.conv4.4.bn1.running_mean, neck.deblocks.0.0.weight, neck.blocks.0.2.running_mean, backbone.conv1.0.bn2.running_var, neck.blocks.0.11.weight, neck.blocks.0.14.running_mean, backbone.conv_input.1.bias, neck.blocks.0.7.weight, backbone.conv4.3.bn2.bias, neck.blocks.1.13.weight, neck.deblocks.1.0.weight, backbone.conv1.0.conv2.bias, neck.blocks.0.11.running_var, backbone.conv4.0.weight, neck.blocks.1.11.running_mean, neck.blocks.0.8.running_mean, neck.deblocks.0.1.running_mean, backbone.conv1.0.bn1.weight, backbone.conv1.1.conv1.weight, backbone.conv2.3.bn1.weight, backbone.conv3.4.conv2.bias, backbone.extra_conv.1.bias, neck.blocks.1.16.weight, neck.blocks.0.2.weight, backbone.conv2.3.conv1.bias, backbone.conv4.4.bn1.running_var, backbone.conv_input.1.running_mean, backbone.conv1.0.conv1.bias, backbone.conv3.4.conv1.bias, neck.blocks.0.14.bias, backbone.conv4.4.bn2.running_var, backbone.conv3.4.bn2.running_mean, backbone.conv3.4.conv1.weight\n",
      "\n",
      "init weight from /home/rajeev-gupta/sensyn_ws/src/GraphRCNN/work_dirs/waymo_centerpoint_voxelnet_graphrcnn_6epoch_freeze/latest.pth\n",
      "Freeze First Stage Network\n",
      "***************************model is build_from_cfg***************************\n"
     ]
    }
   ],
   "source": [
    "\n",
    "model = build_detector(cfg.model, train_cfg=None, test_cfg=cfg.test_cfg)\n"
   ]
  },
  {
   "cell_type": "code",
   "execution_count": 9,
   "metadata": {},
   "outputs": [
    {
     "name": "stdout",
     "output_type": "stream",
     "text": [
      "Use Val Set\n",
      "Using 1 sweeps\n",
      "Using 196 Frames\n"
     ]
    }
   ],
   "source": [
    "\n",
    "if args.testset:\n",
    "    print(\"Use Test Set\")\n",
    "    dataset = build_dataset(cfg.data.test)\n",
    "else:\n",
    "    print(\"Use Val Set\")\n",
    "    dataset = build_dataset(cfg.data.val)\n"
   ]
  },
  {
   "cell_type": "code",
   "execution_count": 10,
   "metadata": {},
   "outputs": [
    {
     "data": {
      "text/plain": [
       "det3d.datasets.waymo.waymo.WaymoDataset"
      ]
     },
     "execution_count": 10,
     "metadata": {},
     "output_type": "execute_result"
    }
   ],
   "source": [
    "type(dataset)"
   ]
  },
  {
   "cell_type": "code",
   "execution_count": 11,
   "metadata": {},
   "outputs": [],
   "source": [
    "\n",
    "data_loader = build_dataloader(\n",
    "    dataset,\n",
    "    batch_size=cfg.data.samples_per_gpu if not args.speed_test else 1,\n",
    "    workers_per_gpu=cfg.data.workers_per_gpu,\n",
    "    dist=distributed,\n",
    "    shuffle=True,\n",
    ")\n"
   ]
  },
  {
   "cell_type": "code",
   "execution_count": 12,
   "metadata": {},
   "outputs": [
    {
     "ename": "RuntimeError",
     "evalue": "CUDA unknown error - this may be due to an incorrectly set up environment, e.g. changing env variable CUDA_VISIBLE_DEVICES after program start. Setting the available devices to be zero.",
     "output_type": "error",
     "traceback": [
      "\u001b[0;31m---------------------------------------------------------------------------\u001b[0m",
      "\u001b[0;31mRuntimeError\u001b[0m                              Traceback (most recent call last)",
      "\u001b[0;32m/tmp/ipykernel_34084/3299227482.py\u001b[0m in \u001b[0;36m<module>\u001b[0;34m\u001b[0m\n\u001b[1;32m     13\u001b[0m \u001b[0;32melse\u001b[0m\u001b[0;34m:\u001b[0m\u001b[0;34m\u001b[0m\u001b[0;34m\u001b[0m\u001b[0m\n\u001b[1;32m     14\u001b[0m     \u001b[0;31m# model = fuse_bn_recursively(model)\u001b[0m\u001b[0;34m\u001b[0m\u001b[0;34m\u001b[0m\u001b[0;34m\u001b[0m\u001b[0m\n\u001b[0;32m---> 15\u001b[0;31m     \u001b[0mmodel\u001b[0m \u001b[0;34m=\u001b[0m \u001b[0mmodel\u001b[0m\u001b[0;34m.\u001b[0m\u001b[0mcuda\u001b[0m\u001b[0;34m(\u001b[0m\u001b[0;34m)\u001b[0m\u001b[0;34m\u001b[0m\u001b[0;34m\u001b[0m\u001b[0m\n\u001b[0m\u001b[1;32m     16\u001b[0m \u001b[0;34m\u001b[0m\u001b[0m\n\u001b[1;32m     17\u001b[0m \u001b[0mmodel\u001b[0m\u001b[0;34m.\u001b[0m\u001b[0meval\u001b[0m\u001b[0;34m(\u001b[0m\u001b[0;34m)\u001b[0m\u001b[0;34m\u001b[0m\u001b[0;34m\u001b[0m\u001b[0m\n",
      "\u001b[0;32m/media/rajeev-gupta/Drive250/conda_envs/new_graphrcnn/lib/python3.7/site-packages/torch/nn/modules/module.py\u001b[0m in \u001b[0;36mcuda\u001b[0;34m(self, device)\u001b[0m\n\u001b[1;32m    678\u001b[0m             \u001b[0mModule\u001b[0m\u001b[0;34m:\u001b[0m \u001b[0mself\u001b[0m\u001b[0;34m\u001b[0m\u001b[0;34m\u001b[0m\u001b[0m\n\u001b[1;32m    679\u001b[0m         \"\"\"\n\u001b[0;32m--> 680\u001b[0;31m         \u001b[0;32mreturn\u001b[0m \u001b[0mself\u001b[0m\u001b[0;34m.\u001b[0m\u001b[0m_apply\u001b[0m\u001b[0;34m(\u001b[0m\u001b[0;32mlambda\u001b[0m \u001b[0mt\u001b[0m\u001b[0;34m:\u001b[0m \u001b[0mt\u001b[0m\u001b[0;34m.\u001b[0m\u001b[0mcuda\u001b[0m\u001b[0;34m(\u001b[0m\u001b[0mdevice\u001b[0m\u001b[0;34m)\u001b[0m\u001b[0;34m)\u001b[0m\u001b[0;34m\u001b[0m\u001b[0;34m\u001b[0m\u001b[0m\n\u001b[0m\u001b[1;32m    681\u001b[0m \u001b[0;34m\u001b[0m\u001b[0m\n\u001b[1;32m    682\u001b[0m     \u001b[0;32mdef\u001b[0m \u001b[0mxpu\u001b[0m\u001b[0;34m(\u001b[0m\u001b[0mself\u001b[0m\u001b[0;34m:\u001b[0m \u001b[0mT\u001b[0m\u001b[0;34m,\u001b[0m \u001b[0mdevice\u001b[0m\u001b[0;34m:\u001b[0m \u001b[0mOptional\u001b[0m\u001b[0;34m[\u001b[0m\u001b[0mUnion\u001b[0m\u001b[0;34m[\u001b[0m\u001b[0mint\u001b[0m\u001b[0;34m,\u001b[0m \u001b[0mdevice\u001b[0m\u001b[0;34m]\u001b[0m\u001b[0;34m]\u001b[0m \u001b[0;34m=\u001b[0m \u001b[0;32mNone\u001b[0m\u001b[0;34m)\u001b[0m \u001b[0;34m->\u001b[0m \u001b[0mT\u001b[0m\u001b[0;34m:\u001b[0m\u001b[0;34m\u001b[0m\u001b[0;34m\u001b[0m\u001b[0m\n",
      "\u001b[0;32m/media/rajeev-gupta/Drive250/conda_envs/new_graphrcnn/lib/python3.7/site-packages/torch/nn/modules/module.py\u001b[0m in \u001b[0;36m_apply\u001b[0;34m(self, fn)\u001b[0m\n\u001b[1;32m    568\u001b[0m     \u001b[0;32mdef\u001b[0m \u001b[0m_apply\u001b[0m\u001b[0;34m(\u001b[0m\u001b[0mself\u001b[0m\u001b[0;34m,\u001b[0m \u001b[0mfn\u001b[0m\u001b[0;34m)\u001b[0m\u001b[0;34m:\u001b[0m\u001b[0;34m\u001b[0m\u001b[0;34m\u001b[0m\u001b[0m\n\u001b[1;32m    569\u001b[0m         \u001b[0;32mfor\u001b[0m \u001b[0mmodule\u001b[0m \u001b[0;32min\u001b[0m \u001b[0mself\u001b[0m\u001b[0;34m.\u001b[0m\u001b[0mchildren\u001b[0m\u001b[0;34m(\u001b[0m\u001b[0;34m)\u001b[0m\u001b[0;34m:\u001b[0m\u001b[0;34m\u001b[0m\u001b[0;34m\u001b[0m\u001b[0m\n\u001b[0;32m--> 570\u001b[0;31m             \u001b[0mmodule\u001b[0m\u001b[0;34m.\u001b[0m\u001b[0m_apply\u001b[0m\u001b[0;34m(\u001b[0m\u001b[0mfn\u001b[0m\u001b[0;34m)\u001b[0m\u001b[0;34m\u001b[0m\u001b[0;34m\u001b[0m\u001b[0m\n\u001b[0m\u001b[1;32m    571\u001b[0m \u001b[0;34m\u001b[0m\u001b[0m\n\u001b[1;32m    572\u001b[0m         \u001b[0;32mdef\u001b[0m \u001b[0mcompute_should_use_set_data\u001b[0m\u001b[0;34m(\u001b[0m\u001b[0mtensor\u001b[0m\u001b[0;34m,\u001b[0m \u001b[0mtensor_applied\u001b[0m\u001b[0;34m)\u001b[0m\u001b[0;34m:\u001b[0m\u001b[0;34m\u001b[0m\u001b[0;34m\u001b[0m\u001b[0m\n",
      "\u001b[0;32m/media/rajeev-gupta/Drive250/conda_envs/new_graphrcnn/lib/python3.7/site-packages/torch/nn/modules/module.py\u001b[0m in \u001b[0;36m_apply\u001b[0;34m(self, fn)\u001b[0m\n\u001b[1;32m    568\u001b[0m     \u001b[0;32mdef\u001b[0m \u001b[0m_apply\u001b[0m\u001b[0;34m(\u001b[0m\u001b[0mself\u001b[0m\u001b[0;34m,\u001b[0m \u001b[0mfn\u001b[0m\u001b[0;34m)\u001b[0m\u001b[0;34m:\u001b[0m\u001b[0;34m\u001b[0m\u001b[0;34m\u001b[0m\u001b[0m\n\u001b[1;32m    569\u001b[0m         \u001b[0;32mfor\u001b[0m \u001b[0mmodule\u001b[0m \u001b[0;32min\u001b[0m \u001b[0mself\u001b[0m\u001b[0;34m.\u001b[0m\u001b[0mchildren\u001b[0m\u001b[0;34m(\u001b[0m\u001b[0;34m)\u001b[0m\u001b[0;34m:\u001b[0m\u001b[0;34m\u001b[0m\u001b[0;34m\u001b[0m\u001b[0m\n\u001b[0;32m--> 570\u001b[0;31m             \u001b[0mmodule\u001b[0m\u001b[0;34m.\u001b[0m\u001b[0m_apply\u001b[0m\u001b[0;34m(\u001b[0m\u001b[0mfn\u001b[0m\u001b[0;34m)\u001b[0m\u001b[0;34m\u001b[0m\u001b[0;34m\u001b[0m\u001b[0m\n\u001b[0m\u001b[1;32m    571\u001b[0m \u001b[0;34m\u001b[0m\u001b[0m\n\u001b[1;32m    572\u001b[0m         \u001b[0;32mdef\u001b[0m \u001b[0mcompute_should_use_set_data\u001b[0m\u001b[0;34m(\u001b[0m\u001b[0mtensor\u001b[0m\u001b[0;34m,\u001b[0m \u001b[0mtensor_applied\u001b[0m\u001b[0;34m)\u001b[0m\u001b[0;34m:\u001b[0m\u001b[0;34m\u001b[0m\u001b[0;34m\u001b[0m\u001b[0m\n",
      "\u001b[0;32m/media/rajeev-gupta/Drive250/conda_envs/new_graphrcnn/lib/python3.7/site-packages/torch/nn/modules/module.py\u001b[0m in \u001b[0;36m_apply\u001b[0;34m(self, fn)\u001b[0m\n\u001b[1;32m    568\u001b[0m     \u001b[0;32mdef\u001b[0m \u001b[0m_apply\u001b[0m\u001b[0;34m(\u001b[0m\u001b[0mself\u001b[0m\u001b[0;34m,\u001b[0m \u001b[0mfn\u001b[0m\u001b[0;34m)\u001b[0m\u001b[0;34m:\u001b[0m\u001b[0;34m\u001b[0m\u001b[0;34m\u001b[0m\u001b[0m\n\u001b[1;32m    569\u001b[0m         \u001b[0;32mfor\u001b[0m \u001b[0mmodule\u001b[0m \u001b[0;32min\u001b[0m \u001b[0mself\u001b[0m\u001b[0;34m.\u001b[0m\u001b[0mchildren\u001b[0m\u001b[0;34m(\u001b[0m\u001b[0;34m)\u001b[0m\u001b[0;34m:\u001b[0m\u001b[0;34m\u001b[0m\u001b[0;34m\u001b[0m\u001b[0m\n\u001b[0;32m--> 570\u001b[0;31m             \u001b[0mmodule\u001b[0m\u001b[0;34m.\u001b[0m\u001b[0m_apply\u001b[0m\u001b[0;34m(\u001b[0m\u001b[0mfn\u001b[0m\u001b[0;34m)\u001b[0m\u001b[0;34m\u001b[0m\u001b[0;34m\u001b[0m\u001b[0m\n\u001b[0m\u001b[1;32m    571\u001b[0m \u001b[0;34m\u001b[0m\u001b[0m\n\u001b[1;32m    572\u001b[0m         \u001b[0;32mdef\u001b[0m \u001b[0mcompute_should_use_set_data\u001b[0m\u001b[0;34m(\u001b[0m\u001b[0mtensor\u001b[0m\u001b[0;34m,\u001b[0m \u001b[0mtensor_applied\u001b[0m\u001b[0;34m)\u001b[0m\u001b[0;34m:\u001b[0m\u001b[0;34m\u001b[0m\u001b[0;34m\u001b[0m\u001b[0m\n",
      "\u001b[0;32m/media/rajeev-gupta/Drive250/conda_envs/new_graphrcnn/lib/python3.7/site-packages/torch/nn/modules/module.py\u001b[0m in \u001b[0;36m_apply\u001b[0;34m(self, fn)\u001b[0m\n\u001b[1;32m    568\u001b[0m     \u001b[0;32mdef\u001b[0m \u001b[0m_apply\u001b[0m\u001b[0;34m(\u001b[0m\u001b[0mself\u001b[0m\u001b[0;34m,\u001b[0m \u001b[0mfn\u001b[0m\u001b[0;34m)\u001b[0m\u001b[0;34m:\u001b[0m\u001b[0;34m\u001b[0m\u001b[0;34m\u001b[0m\u001b[0m\n\u001b[1;32m    569\u001b[0m         \u001b[0;32mfor\u001b[0m \u001b[0mmodule\u001b[0m \u001b[0;32min\u001b[0m \u001b[0mself\u001b[0m\u001b[0;34m.\u001b[0m\u001b[0mchildren\u001b[0m\u001b[0;34m(\u001b[0m\u001b[0;34m)\u001b[0m\u001b[0;34m:\u001b[0m\u001b[0;34m\u001b[0m\u001b[0;34m\u001b[0m\u001b[0m\n\u001b[0;32m--> 570\u001b[0;31m             \u001b[0mmodule\u001b[0m\u001b[0;34m.\u001b[0m\u001b[0m_apply\u001b[0m\u001b[0;34m(\u001b[0m\u001b[0mfn\u001b[0m\u001b[0;34m)\u001b[0m\u001b[0;34m\u001b[0m\u001b[0;34m\u001b[0m\u001b[0m\n\u001b[0m\u001b[1;32m    571\u001b[0m \u001b[0;34m\u001b[0m\u001b[0m\n\u001b[1;32m    572\u001b[0m         \u001b[0;32mdef\u001b[0m \u001b[0mcompute_should_use_set_data\u001b[0m\u001b[0;34m(\u001b[0m\u001b[0mtensor\u001b[0m\u001b[0;34m,\u001b[0m \u001b[0mtensor_applied\u001b[0m\u001b[0;34m)\u001b[0m\u001b[0;34m:\u001b[0m\u001b[0;34m\u001b[0m\u001b[0;34m\u001b[0m\u001b[0m\n",
      "\u001b[0;32m/media/rajeev-gupta/Drive250/conda_envs/new_graphrcnn/lib/python3.7/site-packages/torch/nn/modules/module.py\u001b[0m in \u001b[0;36m_apply\u001b[0;34m(self, fn)\u001b[0m\n\u001b[1;32m    591\u001b[0m             \u001b[0;31m# `with torch.no_grad():`\u001b[0m\u001b[0;34m\u001b[0m\u001b[0;34m\u001b[0m\u001b[0;34m\u001b[0m\u001b[0m\n\u001b[1;32m    592\u001b[0m             \u001b[0;32mwith\u001b[0m \u001b[0mtorch\u001b[0m\u001b[0;34m.\u001b[0m\u001b[0mno_grad\u001b[0m\u001b[0;34m(\u001b[0m\u001b[0;34m)\u001b[0m\u001b[0;34m:\u001b[0m\u001b[0;34m\u001b[0m\u001b[0;34m\u001b[0m\u001b[0m\n\u001b[0;32m--> 593\u001b[0;31m                 \u001b[0mparam_applied\u001b[0m \u001b[0;34m=\u001b[0m \u001b[0mfn\u001b[0m\u001b[0;34m(\u001b[0m\u001b[0mparam\u001b[0m\u001b[0;34m)\u001b[0m\u001b[0;34m\u001b[0m\u001b[0;34m\u001b[0m\u001b[0m\n\u001b[0m\u001b[1;32m    594\u001b[0m             \u001b[0mshould_use_set_data\u001b[0m \u001b[0;34m=\u001b[0m \u001b[0mcompute_should_use_set_data\u001b[0m\u001b[0;34m(\u001b[0m\u001b[0mparam\u001b[0m\u001b[0;34m,\u001b[0m \u001b[0mparam_applied\u001b[0m\u001b[0;34m)\u001b[0m\u001b[0;34m\u001b[0m\u001b[0;34m\u001b[0m\u001b[0m\n\u001b[1;32m    595\u001b[0m             \u001b[0;32mif\u001b[0m \u001b[0mshould_use_set_data\u001b[0m\u001b[0;34m:\u001b[0m\u001b[0;34m\u001b[0m\u001b[0;34m\u001b[0m\u001b[0m\n",
      "\u001b[0;32m/media/rajeev-gupta/Drive250/conda_envs/new_graphrcnn/lib/python3.7/site-packages/torch/nn/modules/module.py\u001b[0m in \u001b[0;36m<lambda>\u001b[0;34m(t)\u001b[0m\n\u001b[1;32m    678\u001b[0m             \u001b[0mModule\u001b[0m\u001b[0;34m:\u001b[0m \u001b[0mself\u001b[0m\u001b[0;34m\u001b[0m\u001b[0;34m\u001b[0m\u001b[0m\n\u001b[1;32m    679\u001b[0m         \"\"\"\n\u001b[0;32m--> 680\u001b[0;31m         \u001b[0;32mreturn\u001b[0m \u001b[0mself\u001b[0m\u001b[0;34m.\u001b[0m\u001b[0m_apply\u001b[0m\u001b[0;34m(\u001b[0m\u001b[0;32mlambda\u001b[0m \u001b[0mt\u001b[0m\u001b[0;34m:\u001b[0m \u001b[0mt\u001b[0m\u001b[0;34m.\u001b[0m\u001b[0mcuda\u001b[0m\u001b[0;34m(\u001b[0m\u001b[0mdevice\u001b[0m\u001b[0;34m)\u001b[0m\u001b[0;34m)\u001b[0m\u001b[0;34m\u001b[0m\u001b[0;34m\u001b[0m\u001b[0m\n\u001b[0m\u001b[1;32m    681\u001b[0m \u001b[0;34m\u001b[0m\u001b[0m\n\u001b[1;32m    682\u001b[0m     \u001b[0;32mdef\u001b[0m \u001b[0mxpu\u001b[0m\u001b[0;34m(\u001b[0m\u001b[0mself\u001b[0m\u001b[0;34m:\u001b[0m \u001b[0mT\u001b[0m\u001b[0;34m,\u001b[0m \u001b[0mdevice\u001b[0m\u001b[0;34m:\u001b[0m \u001b[0mOptional\u001b[0m\u001b[0;34m[\u001b[0m\u001b[0mUnion\u001b[0m\u001b[0;34m[\u001b[0m\u001b[0mint\u001b[0m\u001b[0;34m,\u001b[0m \u001b[0mdevice\u001b[0m\u001b[0;34m]\u001b[0m\u001b[0;34m]\u001b[0m \u001b[0;34m=\u001b[0m \u001b[0;32mNone\u001b[0m\u001b[0;34m)\u001b[0m \u001b[0;34m->\u001b[0m \u001b[0mT\u001b[0m\u001b[0;34m:\u001b[0m\u001b[0;34m\u001b[0m\u001b[0;34m\u001b[0m\u001b[0m\n",
      "\u001b[0;32m/media/rajeev-gupta/Drive250/conda_envs/new_graphrcnn/lib/python3.7/site-packages/torch/cuda/__init__.py\u001b[0m in \u001b[0;36m_lazy_init\u001b[0;34m()\u001b[0m\n\u001b[1;32m    212\u001b[0m         \u001b[0;31m# This function throws if there's a driver initialization error, no GPUs\u001b[0m\u001b[0;34m\u001b[0m\u001b[0;34m\u001b[0m\u001b[0;34m\u001b[0m\u001b[0m\n\u001b[1;32m    213\u001b[0m         \u001b[0;31m# are found or any other error occurs\u001b[0m\u001b[0;34m\u001b[0m\u001b[0;34m\u001b[0m\u001b[0;34m\u001b[0m\u001b[0m\n\u001b[0;32m--> 214\u001b[0;31m         \u001b[0mtorch\u001b[0m\u001b[0;34m.\u001b[0m\u001b[0m_C\u001b[0m\u001b[0;34m.\u001b[0m\u001b[0m_cuda_init\u001b[0m\u001b[0;34m(\u001b[0m\u001b[0;34m)\u001b[0m\u001b[0;34m\u001b[0m\u001b[0;34m\u001b[0m\u001b[0m\n\u001b[0m\u001b[1;32m    215\u001b[0m         \u001b[0;31m# Some of the queued calls may reentrantly call _lazy_init();\u001b[0m\u001b[0;34m\u001b[0m\u001b[0;34m\u001b[0m\u001b[0;34m\u001b[0m\u001b[0m\n\u001b[1;32m    216\u001b[0m         \u001b[0;31m# we need to just return without initializing in that case.\u001b[0m\u001b[0;34m\u001b[0m\u001b[0;34m\u001b[0m\u001b[0;34m\u001b[0m\u001b[0m\n",
      "\u001b[0;31mRuntimeError\u001b[0m: CUDA unknown error - this may be due to an incorrectly set up environment, e.g. changing env variable CUDA_VISIBLE_DEVICES after program start. Setting the available devices to be zero."
     ]
    }
   ],
   "source": [
    "\n",
    "# checkpoint = load_checkpoint(model, args.checkpoint, map_location=\"cpu\")\n",
    "\n",
    "# put model on gpus\n",
    "if distributed:\n",
    "    model = torch.nn.SyncBatchNorm.convert_sync_batchnorm(model)\n",
    "    model = DistributedDataParallel(\n",
    "        model.cuda(cfg.local_rank),\n",
    "        device_ids=[cfg.local_rank],\n",
    "        output_device=cfg.local_rank,\n",
    "        # broadcast_buffers=False,\n",
    "        find_unused_parameters=False,\n",
    "    )\n",
    "else:\n",
    "    # model = fuse_bn_recursively(model)\n",
    "    model = model.cuda()\n",
    "\n",
    "model.eval()\n",
    "mode = \"val\"\n"
   ]
  },
  {
   "cell_type": "code",
   "execution_count": 13,
   "metadata": {},
   "outputs": [
    {
     "name": "stderr",
     "output_type": "stream",
     "text": [
      "2024-06-11 23:09:47,283 - INFO - work dir: ../work_dirs/waymo_centerpoint_voxelnet_graphrcnn_6epoch_freeze\n"
     ]
    },
    {
     "name": "stdout",
     "output_type": "stream",
     "text": [
      "[                              ] 0/196, elapsed: 0s, ETA:\n",
      "dataloader type:  <class 'torch.utils.data.dataloader.DataLoader'>\n"
     ]
    }
   ],
   "source": [
    "\n",
    "logger.info(f\"work dir: {args.work_dir}\")\n",
    "if cfg.local_rank == 0:\n",
    "    prog_bar = torchie.ProgressBar(len(data_loader.dataset) // cfg.gpus)\n",
    "\n",
    "detections = {}\n",
    "cpu_device = torch.device(\"cpu\")\n",
    "\n",
    "start = time.time()\n",
    "\n",
    "start = int(len(dataset) / 3)\n",
    "end = int(len(dataset) * 2 /3)\n",
    "\n",
    "time_start = 0 \n",
    "time_end = 0 \n",
    "\n",
    "print('\\ndataloader type: ', type(data_loader))\n"
   ]
  },
  {
   "cell_type": "code",
   "execution_count": 14,
   "metadata": {},
   "outputs": [
    {
     "data": {
      "text/plain": [
       "196"
      ]
     },
     "execution_count": 14,
     "metadata": {},
     "output_type": "execute_result"
    }
   ],
   "source": [
    "dataset.__len__()"
   ]
  },
  {
   "cell_type": "code",
   "execution_count": null,
   "metadata": {},
   "outputs": [
    {
     "name": "stdout",
     "output_type": "stream",
     "text": [
      "[]\n"
     ]
    },
    {
     "ename": "ValueError",
     "evalue": "need at least one array to concatenate",
     "output_type": "error",
     "traceback": [
      "\u001b[0;31m---------------------------------------------------------------------------\u001b[0m",
      "\u001b[0;31mValueError\u001b[0m                                Traceback (most recent call last)",
      "\u001b[0;32m/tmp/ipykernel_30062/3119669903.py\u001b[0m in \u001b[0;36m<module>\u001b[0;34m\u001b[0m\n\u001b[0;32m----> 1\u001b[0;31m \u001b[0;32mfor\u001b[0m \u001b[0mi\u001b[0m\u001b[0;34m,\u001b[0m \u001b[0mdata_batch\u001b[0m \u001b[0;32min\u001b[0m \u001b[0menumerate\u001b[0m\u001b[0;34m(\u001b[0m\u001b[0mdata_loader\u001b[0m\u001b[0;34m)\u001b[0m\u001b[0;34m:\u001b[0m\u001b[0;34m\u001b[0m\u001b[0;34m\u001b[0m\u001b[0m\n\u001b[0m\u001b[1;32m      2\u001b[0m     \u001b[0;32mif\u001b[0m \u001b[0mi\u001b[0m \u001b[0;34m==\u001b[0m \u001b[0mstart\u001b[0m\u001b[0;34m:\u001b[0m\u001b[0;34m\u001b[0m\u001b[0;34m\u001b[0m\u001b[0m\n\u001b[1;32m      3\u001b[0m         \u001b[0mtorch\u001b[0m\u001b[0;34m.\u001b[0m\u001b[0mcuda\u001b[0m\u001b[0;34m.\u001b[0m\u001b[0msynchronize\u001b[0m\u001b[0;34m(\u001b[0m\u001b[0;34m)\u001b[0m\u001b[0;34m\u001b[0m\u001b[0;34m\u001b[0m\u001b[0m\n\u001b[1;32m      4\u001b[0m         \u001b[0mtime_start\u001b[0m \u001b[0;34m=\u001b[0m \u001b[0mtime\u001b[0m\u001b[0;34m.\u001b[0m\u001b[0mtime\u001b[0m\u001b[0;34m(\u001b[0m\u001b[0;34m)\u001b[0m\u001b[0;34m\u001b[0m\u001b[0;34m\u001b[0m\u001b[0m\n\u001b[1;32m      5\u001b[0m \u001b[0;34m\u001b[0m\u001b[0m\n",
      "\u001b[0;32m/media/rajeev-gupta/Drive250/conda_envs/new_graphrcnn/lib/python3.7/site-packages/torch/utils/data/dataloader.py\u001b[0m in \u001b[0;36m__iter__\u001b[0;34m(self)\u001b[0m\n\u001b[1;32m    357\u001b[0m             \u001b[0;32mreturn\u001b[0m \u001b[0mself\u001b[0m\u001b[0;34m.\u001b[0m\u001b[0m_iterator\u001b[0m\u001b[0;34m\u001b[0m\u001b[0;34m\u001b[0m\u001b[0m\n\u001b[1;32m    358\u001b[0m         \u001b[0;32melse\u001b[0m\u001b[0;34m:\u001b[0m\u001b[0;34m\u001b[0m\u001b[0;34m\u001b[0m\u001b[0m\n\u001b[0;32m--> 359\u001b[0;31m             \u001b[0;32mreturn\u001b[0m \u001b[0mself\u001b[0m\u001b[0;34m.\u001b[0m\u001b[0m_get_iterator\u001b[0m\u001b[0;34m(\u001b[0m\u001b[0;34m)\u001b[0m\u001b[0;34m\u001b[0m\u001b[0;34m\u001b[0m\u001b[0m\n\u001b[0m\u001b[1;32m    360\u001b[0m \u001b[0;34m\u001b[0m\u001b[0m\n\u001b[1;32m    361\u001b[0m     \u001b[0;34m@\u001b[0m\u001b[0mproperty\u001b[0m\u001b[0;34m\u001b[0m\u001b[0;34m\u001b[0m\u001b[0m\n",
      "\u001b[0;32m/media/rajeev-gupta/Drive250/conda_envs/new_graphrcnn/lib/python3.7/site-packages/torch/utils/data/dataloader.py\u001b[0m in \u001b[0;36m_get_iterator\u001b[0;34m(self)\u001b[0m\n\u001b[1;32m    303\u001b[0m         \u001b[0;32melse\u001b[0m\u001b[0;34m:\u001b[0m\u001b[0;34m\u001b[0m\u001b[0;34m\u001b[0m\u001b[0m\n\u001b[1;32m    304\u001b[0m             \u001b[0mself\u001b[0m\u001b[0;34m.\u001b[0m\u001b[0mcheck_worker_number_rationality\u001b[0m\u001b[0;34m(\u001b[0m\u001b[0;34m)\u001b[0m\u001b[0;34m\u001b[0m\u001b[0;34m\u001b[0m\u001b[0m\n\u001b[0;32m--> 305\u001b[0;31m             \u001b[0;32mreturn\u001b[0m \u001b[0m_MultiProcessingDataLoaderIter\u001b[0m\u001b[0;34m(\u001b[0m\u001b[0mself\u001b[0m\u001b[0;34m)\u001b[0m\u001b[0;34m\u001b[0m\u001b[0;34m\u001b[0m\u001b[0m\n\u001b[0m\u001b[1;32m    306\u001b[0m \u001b[0;34m\u001b[0m\u001b[0m\n\u001b[1;32m    307\u001b[0m     \u001b[0;34m@\u001b[0m\u001b[0mproperty\u001b[0m\u001b[0;34m\u001b[0m\u001b[0;34m\u001b[0m\u001b[0m\n",
      "\u001b[0;32m/media/rajeev-gupta/Drive250/conda_envs/new_graphrcnn/lib/python3.7/site-packages/torch/utils/data/dataloader.py\u001b[0m in \u001b[0;36m__init__\u001b[0;34m(self, loader)\u001b[0m\n\u001b[1;32m    942\u001b[0m         \u001b[0m_utils\u001b[0m\u001b[0;34m.\u001b[0m\u001b[0msignal_handling\u001b[0m\u001b[0;34m.\u001b[0m\u001b[0m_set_SIGCHLD_handler\u001b[0m\u001b[0;34m(\u001b[0m\u001b[0;34m)\u001b[0m\u001b[0;34m\u001b[0m\u001b[0;34m\u001b[0m\u001b[0m\n\u001b[1;32m    943\u001b[0m         \u001b[0mself\u001b[0m\u001b[0;34m.\u001b[0m\u001b[0m_worker_pids_set\u001b[0m \u001b[0;34m=\u001b[0m \u001b[0;32mTrue\u001b[0m\u001b[0;34m\u001b[0m\u001b[0;34m\u001b[0m\u001b[0m\n\u001b[0;32m--> 944\u001b[0;31m         \u001b[0mself\u001b[0m\u001b[0;34m.\u001b[0m\u001b[0m_reset\u001b[0m\u001b[0;34m(\u001b[0m\u001b[0mloader\u001b[0m\u001b[0;34m,\u001b[0m \u001b[0mfirst_iter\u001b[0m\u001b[0;34m=\u001b[0m\u001b[0;32mTrue\u001b[0m\u001b[0;34m)\u001b[0m\u001b[0;34m\u001b[0m\u001b[0;34m\u001b[0m\u001b[0m\n\u001b[0m\u001b[1;32m    945\u001b[0m \u001b[0;34m\u001b[0m\u001b[0m\n\u001b[1;32m    946\u001b[0m     \u001b[0;32mdef\u001b[0m \u001b[0m_reset\u001b[0m\u001b[0;34m(\u001b[0m\u001b[0mself\u001b[0m\u001b[0;34m,\u001b[0m \u001b[0mloader\u001b[0m\u001b[0;34m,\u001b[0m \u001b[0mfirst_iter\u001b[0m\u001b[0;34m=\u001b[0m\u001b[0;32mFalse\u001b[0m\u001b[0;34m)\u001b[0m\u001b[0;34m:\u001b[0m\u001b[0;34m\u001b[0m\u001b[0;34m\u001b[0m\u001b[0m\n",
      "\u001b[0;32m/media/rajeev-gupta/Drive250/conda_envs/new_graphrcnn/lib/python3.7/site-packages/torch/utils/data/dataloader.py\u001b[0m in \u001b[0;36m_reset\u001b[0;34m(self, loader, first_iter)\u001b[0m\n\u001b[1;32m    973\u001b[0m         \u001b[0;31m# prime the prefetch loop\u001b[0m\u001b[0;34m\u001b[0m\u001b[0;34m\u001b[0m\u001b[0;34m\u001b[0m\u001b[0m\n\u001b[1;32m    974\u001b[0m         \u001b[0;32mfor\u001b[0m \u001b[0m_\u001b[0m \u001b[0;32min\u001b[0m \u001b[0mrange\u001b[0m\u001b[0;34m(\u001b[0m\u001b[0mself\u001b[0m\u001b[0;34m.\u001b[0m\u001b[0m_prefetch_factor\u001b[0m \u001b[0;34m*\u001b[0m \u001b[0mself\u001b[0m\u001b[0;34m.\u001b[0m\u001b[0m_num_workers\u001b[0m\u001b[0;34m)\u001b[0m\u001b[0;34m:\u001b[0m\u001b[0;34m\u001b[0m\u001b[0;34m\u001b[0m\u001b[0m\n\u001b[0;32m--> 975\u001b[0;31m             \u001b[0mself\u001b[0m\u001b[0;34m.\u001b[0m\u001b[0m_try_put_index\u001b[0m\u001b[0;34m(\u001b[0m\u001b[0;34m)\u001b[0m\u001b[0;34m\u001b[0m\u001b[0;34m\u001b[0m\u001b[0m\n\u001b[0m\u001b[1;32m    976\u001b[0m \u001b[0;34m\u001b[0m\u001b[0m\n\u001b[1;32m    977\u001b[0m     \u001b[0;32mdef\u001b[0m \u001b[0m_try_get_data\u001b[0m\u001b[0;34m(\u001b[0m\u001b[0mself\u001b[0m\u001b[0;34m,\u001b[0m \u001b[0mtimeout\u001b[0m\u001b[0;34m=\u001b[0m\u001b[0m_utils\u001b[0m\u001b[0;34m.\u001b[0m\u001b[0mMP_STATUS_CHECK_INTERVAL\u001b[0m\u001b[0;34m)\u001b[0m\u001b[0;34m:\u001b[0m\u001b[0;34m\u001b[0m\u001b[0;34m\u001b[0m\u001b[0m\n",
      "\u001b[0;32m/media/rajeev-gupta/Drive250/conda_envs/new_graphrcnn/lib/python3.7/site-packages/torch/utils/data/dataloader.py\u001b[0m in \u001b[0;36m_try_put_index\u001b[0;34m(self)\u001b[0m\n\u001b[1;32m   1207\u001b[0m \u001b[0;34m\u001b[0m\u001b[0m\n\u001b[1;32m   1208\u001b[0m         \u001b[0;32mtry\u001b[0m\u001b[0;34m:\u001b[0m\u001b[0;34m\u001b[0m\u001b[0;34m\u001b[0m\u001b[0m\n\u001b[0;32m-> 1209\u001b[0;31m             \u001b[0mindex\u001b[0m \u001b[0;34m=\u001b[0m \u001b[0mself\u001b[0m\u001b[0;34m.\u001b[0m\u001b[0m_next_index\u001b[0m\u001b[0;34m(\u001b[0m\u001b[0;34m)\u001b[0m\u001b[0;34m\u001b[0m\u001b[0;34m\u001b[0m\u001b[0m\n\u001b[0m\u001b[1;32m   1210\u001b[0m         \u001b[0;32mexcept\u001b[0m \u001b[0mStopIteration\u001b[0m\u001b[0;34m:\u001b[0m\u001b[0;34m\u001b[0m\u001b[0;34m\u001b[0m\u001b[0m\n\u001b[1;32m   1211\u001b[0m             \u001b[0;32mreturn\u001b[0m\u001b[0;34m\u001b[0m\u001b[0;34m\u001b[0m\u001b[0m\n",
      "\u001b[0;32m/media/rajeev-gupta/Drive250/conda_envs/new_graphrcnn/lib/python3.7/site-packages/torch/utils/data/dataloader.py\u001b[0m in \u001b[0;36m_next_index\u001b[0;34m(self)\u001b[0m\n\u001b[1;32m    510\u001b[0m \u001b[0;34m\u001b[0m\u001b[0m\n\u001b[1;32m    511\u001b[0m     \u001b[0;32mdef\u001b[0m \u001b[0m_next_index\u001b[0m\u001b[0;34m(\u001b[0m\u001b[0mself\u001b[0m\u001b[0;34m)\u001b[0m\u001b[0;34m:\u001b[0m\u001b[0;34m\u001b[0m\u001b[0;34m\u001b[0m\u001b[0m\n\u001b[0;32m--> 512\u001b[0;31m         \u001b[0;32mreturn\u001b[0m \u001b[0mnext\u001b[0m\u001b[0;34m(\u001b[0m\u001b[0mself\u001b[0m\u001b[0;34m.\u001b[0m\u001b[0m_sampler_iter\u001b[0m\u001b[0;34m)\u001b[0m  \u001b[0;31m# may raise StopIteration\u001b[0m\u001b[0;34m\u001b[0m\u001b[0;34m\u001b[0m\u001b[0m\n\u001b[0m\u001b[1;32m    513\u001b[0m \u001b[0;34m\u001b[0m\u001b[0m\n\u001b[1;32m    514\u001b[0m     \u001b[0;32mdef\u001b[0m \u001b[0m_next_data\u001b[0m\u001b[0;34m(\u001b[0m\u001b[0mself\u001b[0m\u001b[0;34m)\u001b[0m\u001b[0;34m:\u001b[0m\u001b[0;34m\u001b[0m\u001b[0;34m\u001b[0m\u001b[0m\n",
      "\u001b[0;32m/media/rajeev-gupta/Drive250/conda_envs/new_graphrcnn/lib/python3.7/site-packages/torch/utils/data/sampler.py\u001b[0m in \u001b[0;36m__iter__\u001b[0;34m(self)\u001b[0m\n\u001b[1;32m    227\u001b[0m     \u001b[0;32mdef\u001b[0m \u001b[0m__iter__\u001b[0m\u001b[0;34m(\u001b[0m\u001b[0mself\u001b[0m\u001b[0;34m)\u001b[0m \u001b[0;34m->\u001b[0m \u001b[0mIterator\u001b[0m\u001b[0;34m[\u001b[0m\u001b[0mList\u001b[0m\u001b[0;34m[\u001b[0m\u001b[0mint\u001b[0m\u001b[0;34m]\u001b[0m\u001b[0;34m]\u001b[0m\u001b[0;34m:\u001b[0m\u001b[0;34m\u001b[0m\u001b[0;34m\u001b[0m\u001b[0m\n\u001b[1;32m    228\u001b[0m         \u001b[0mbatch\u001b[0m \u001b[0;34m=\u001b[0m \u001b[0;34m[\u001b[0m\u001b[0;34m]\u001b[0m\u001b[0;34m\u001b[0m\u001b[0;34m\u001b[0m\u001b[0m\n\u001b[0;32m--> 229\u001b[0;31m         \u001b[0;32mfor\u001b[0m \u001b[0midx\u001b[0m \u001b[0;32min\u001b[0m \u001b[0mself\u001b[0m\u001b[0;34m.\u001b[0m\u001b[0msampler\u001b[0m\u001b[0;34m:\u001b[0m\u001b[0;34m\u001b[0m\u001b[0;34m\u001b[0m\u001b[0m\n\u001b[0m\u001b[1;32m    230\u001b[0m             \u001b[0mbatch\u001b[0m\u001b[0;34m.\u001b[0m\u001b[0mappend\u001b[0m\u001b[0;34m(\u001b[0m\u001b[0midx\u001b[0m\u001b[0;34m)\u001b[0m\u001b[0;34m\u001b[0m\u001b[0;34m\u001b[0m\u001b[0m\n\u001b[1;32m    231\u001b[0m             \u001b[0;32mif\u001b[0m \u001b[0mlen\u001b[0m\u001b[0;34m(\u001b[0m\u001b[0mbatch\u001b[0m\u001b[0;34m)\u001b[0m \u001b[0;34m==\u001b[0m \u001b[0mself\u001b[0m\u001b[0;34m.\u001b[0m\u001b[0mbatch_size\u001b[0m\u001b[0;34m:\u001b[0m\u001b[0;34m\u001b[0m\u001b[0;34m\u001b[0m\u001b[0m\n",
      "\u001b[0;32m~/sensyn_ws/src/GraphRCNN/det3d/datasets/loader/sampler.py\u001b[0m in \u001b[0;36m__iter__\u001b[0;34m(self)\u001b[0m\n\u001b[1;32m    129\u001b[0m             \u001b[0;32mfor\u001b[0m \u001b[0mi\u001b[0m \u001b[0;32min\u001b[0m \u001b[0mnp\u001b[0m\u001b[0;34m.\u001b[0m\u001b[0mrandom\u001b[0m\u001b[0;34m.\u001b[0m\u001b[0mpermutation\u001b[0m\u001b[0;34m(\u001b[0m\u001b[0mrange\u001b[0m\u001b[0;34m(\u001b[0m\u001b[0mlen\u001b[0m\u001b[0;34m(\u001b[0m\u001b[0mindices\u001b[0m\u001b[0;34m)\u001b[0m \u001b[0;34m//\u001b[0m \u001b[0mself\u001b[0m\u001b[0;34m.\u001b[0m\u001b[0msamples_per_gpu\u001b[0m\u001b[0;34m)\u001b[0m\u001b[0;34m)\u001b[0m\u001b[0;34m\u001b[0m\u001b[0;34m\u001b[0m\u001b[0m\n\u001b[1;32m    130\u001b[0m         ]\n\u001b[0;32m--> 131\u001b[0;31m         \u001b[0mindices\u001b[0m \u001b[0;34m=\u001b[0m \u001b[0mnp\u001b[0m\u001b[0;34m.\u001b[0m\u001b[0mconcatenate\u001b[0m\u001b[0;34m(\u001b[0m\u001b[0mindices\u001b[0m\u001b[0;34m)\u001b[0m\u001b[0;34m\u001b[0m\u001b[0;34m\u001b[0m\u001b[0m\n\u001b[0m\u001b[1;32m    132\u001b[0m         \u001b[0mindices\u001b[0m \u001b[0;34m=\u001b[0m \u001b[0mindices\u001b[0m\u001b[0;34m.\u001b[0m\u001b[0mastype\u001b[0m\u001b[0;34m(\u001b[0m\u001b[0mnp\u001b[0m\u001b[0;34m.\u001b[0m\u001b[0mint64\u001b[0m\u001b[0;34m)\u001b[0m\u001b[0;34m.\u001b[0m\u001b[0mtolist\u001b[0m\u001b[0;34m(\u001b[0m\u001b[0;34m)\u001b[0m\u001b[0;34m\u001b[0m\u001b[0;34m\u001b[0m\u001b[0m\n\u001b[1;32m    133\u001b[0m         \u001b[0;32massert\u001b[0m \u001b[0mlen\u001b[0m\u001b[0;34m(\u001b[0m\u001b[0mindices\u001b[0m\u001b[0;34m)\u001b[0m \u001b[0;34m==\u001b[0m \u001b[0mself\u001b[0m\u001b[0;34m.\u001b[0m\u001b[0mnum_samples\u001b[0m\u001b[0;34m\u001b[0m\u001b[0;34m\u001b[0m\u001b[0m\n",
      "\u001b[0;32m<__array_function__ internals>\u001b[0m in \u001b[0;36mconcatenate\u001b[0;34m(*args, **kwargs)\u001b[0m\n",
      "\u001b[0;31mValueError\u001b[0m: need at least one array to concatenate"
     ]
    }
   ],
   "source": [
    "\n",
    "for i, data_batch in enumerate(data_loader):\n",
    "    if i == start:\n",
    "        torch.cuda.synchronize()\n",
    "        time_start = time.time()\n",
    "\n",
    "    if i == end:\n",
    "        torch.cuda.synchronize()\n",
    "        time_end = time.time()\n",
    "\n",
    "    with torch.no_grad():\n",
    "        outputs = batch_processor(\n",
    "            model, data_batch, train_mode=False, local_rank=args.local_rank,\n",
    "        )\n",
    "    for output in outputs:\n",
    "        token = output[\"metadata\"][\"token\"]\n",
    "        for k, v in output.items():\n",
    "            if k not in [\n",
    "                \"metadata\",\n",
    "            ]:\n",
    "                output[k] = v.to(cpu_device)\n",
    "        detections.update(\n",
    "            {token: output,}\n",
    "        )\n",
    "        if args.local_rank == 0:\n",
    "            prog_bar.update()\n",
    "\n",
    "synchronize()\n"
   ]
  },
  {
   "cell_type": "code",
   "execution_count": null,
   "metadata": {},
   "outputs": [],
   "source": [
    "\n",
    "# all_predictions = all_gather(detections)\n",
    "\n",
    "# print(\"\\n Total time per frame: \", (time_end -  time_start) / (end - start))\n",
    "\n",
    "# if args.local_rank != 0:\n",
    "#     return\n",
    "\n",
    "# predictions = {}\n",
    "# for p in all_predictions:\n",
    "#     predictions.update(p)\n",
    "\n",
    "# if not os.path.exists(args.work_dir):\n",
    "#     os.makedirs(args.work_dir)\n",
    "\n",
    "# save_pred(predictions, args.work_dir)\n",
    "\n",
    "# result_dict, _ = dataset.evaluation(copy.deepcopy(predictions), output_dir=args.work_dir, testset=args.testset)\n",
    "\n",
    "# if result_dict is not None:\n",
    "#     for k, v in result_dict[\"results\"].items():\n",
    "#         print(f\"Evaluation {k}: {v}\")\n",
    "\n",
    "# if args.txt_result:\n",
    "#     assert False, \"No longer support kitti\"\n"
   ]
  },
  {
   "cell_type": "code",
   "execution_count": null,
   "metadata": {},
   "outputs": [],
   "source": []
  },
  {
   "cell_type": "code",
   "execution_count": null,
   "metadata": {},
   "outputs": [],
   "source": []
  },
  {
   "cell_type": "code",
   "execution_count": null,
   "metadata": {},
   "outputs": [],
   "source": []
  }
 ],
 "metadata": {
  "kernelspec": {
   "display_name": "new_graphrcnn",
   "language": "python",
   "name": "python3"
  },
  "language_info": {
   "codemirror_mode": {
    "name": "ipython",
    "version": 3
   },
   "file_extension": ".py",
   "mimetype": "text/x-python",
   "name": "python",
   "nbconvert_exporter": "python",
   "pygments_lexer": "ipython3",
   "version": "3.7.12"
  }
 },
 "nbformat": 4,
 "nbformat_minor": 2
}
